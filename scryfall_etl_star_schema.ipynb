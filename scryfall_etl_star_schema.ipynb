{
 "cells": [
  {
   "cell_type": "markdown",
   "id": "40532b1b",
   "metadata": {},
   "source": [
    "# Scryfall ETL and Star Schema Construction\n",
    "### API Doc: https://scryfall.com/docs/api"
   ]
  },
  {
   "cell_type": "code",
   "execution_count": 1,
   "id": "9c4a9135",
   "metadata": {},
   "outputs": [],
   "source": [
    "import requests\n",
    "import pandas as pd\n",
    "from datetime import datetime\n",
    "import os"
   ]
  },
  {
   "cell_type": "markdown",
   "id": "7c676b1f",
   "metadata": {},
   "source": [
    "# Step 1: Retrieve Bulk Data (Extract)"
   ]
  },
  {
   "cell_type": "code",
   "execution_count": 2,
   "id": "066cdea4",
   "metadata": {},
   "outputs": [],
   "source": [
    "bulk_response = requests.get(\"https://api.scryfall.com/bulk-data\")\n",
    "bulk_response.raise_for_status()\n",
    "bulk_data = bulk_response.json()\n",
    "default_cards_info = next(item for item in bulk_data[\"data\"] if item[\"type\"] == \"default_cards\")\n",
    "cards_response = requests.get(default_cards_info[\"download_uri\"])\n",
    "cards_response.raise_for_status()\n",
    "cards_json = cards_response.json()\n",
    "df = pd.json_normalize(cards_json)"
   ]
  },
  {
   "cell_type": "markdown",
   "id": "de360002",
   "metadata": {},
   "source": [
    "# Step 2: Derived Attributes"
   ]
  },
  {
   "cell_type": "code",
   "execution_count": 3,
   "id": "030e75d8",
   "metadata": {},
   "outputs": [],
   "source": [
    "df[\"is_multicolor\"] = df[\"color_identity\"].apply(lambda x: isinstance(x, list) and len(x) > 1)\n",
    "df[\"is_colorless\"] = df[\"color_identity\"].apply(lambda x: isinstance(x, list) and len(x) == 0)"
   ]
  },
  {
   "cell_type": "markdown",
   "id": "037f5b7a",
   "metadata": {},
   "source": [
    "# Utility Functions"
   ]
  },
  {
   "cell_type": "code",
   "execution_count": 4,
   "id": "a86ba3ca",
   "metadata": {},
   "outputs": [],
   "source": [
    "def explode_list_column(df, id_col, list_col):\n",
    "    df_copy = df[[id_col, list_col]].copy()\n",
    "    df_copy = df_copy.explode(list_col).dropna().reset_index(drop=True)\n",
    "    df_copy.columns = [id_col, list_col.rstrip('s')]\n",
    "    return df_copy"
   ]
  },
  {
   "cell_type": "markdown",
   "id": "bbc83adc",
   "metadata": {},
   "source": [
    "# Step 3: Dim Tables (Transform)"
   ]
  },
  {
   "cell_type": "markdown",
   "id": "7b32c8aa",
   "metadata": {},
   "source": [
    "## DIM Colors (One-To-Many)"
   ]
  },
  {
   "cell_type": "code",
   "execution_count": 5,
   "id": "067d2b56",
   "metadata": {},
   "outputs": [],
   "source": [
    "dim_colors_df = explode_list_column(df, id_col=\"id\", list_col=\"color_identity\")"
   ]
  },
  {
   "cell_type": "code",
   "execution_count": 6,
   "id": "7e1e8520",
   "metadata": {},
   "outputs": [
    {
     "data": {
      "text/html": [
       "<div>\n",
       "<style scoped>\n",
       "    .dataframe tbody tr th:only-of-type {\n",
       "        vertical-align: middle;\n",
       "    }\n",
       "\n",
       "    .dataframe tbody tr th {\n",
       "        vertical-align: top;\n",
       "    }\n",
       "\n",
       "    .dataframe thead th {\n",
       "        text-align: right;\n",
       "    }\n",
       "</style>\n",
       "<table border=\"1\" class=\"dataframe\">\n",
       "  <thead>\n",
       "    <tr style=\"text-align: right;\">\n",
       "      <th></th>\n",
       "      <th>id</th>\n",
       "      <th>color_identity</th>\n",
       "    </tr>\n",
       "  </thead>\n",
       "  <tbody>\n",
       "    <tr>\n",
       "      <th>0</th>\n",
       "      <td>0000419b-0bba-4488-8f7a-6194544ce91e</td>\n",
       "      <td>G</td>\n",
       "    </tr>\n",
       "    <tr>\n",
       "      <th>1</th>\n",
       "      <td>0000579f-7b35-4ed3-b44c-db2a538066fe</td>\n",
       "      <td>R</td>\n",
       "    </tr>\n",
       "    <tr>\n",
       "      <th>2</th>\n",
       "      <td>00006596-1166-4a79-8443-ca9f82e6db4e</td>\n",
       "      <td>W</td>\n",
       "    </tr>\n",
       "    <tr>\n",
       "      <th>3</th>\n",
       "      <td>0000a54c-a511-4925-92dc-01b937f9afad</td>\n",
       "      <td>W</td>\n",
       "    </tr>\n",
       "    <tr>\n",
       "      <th>4</th>\n",
       "      <td>0000cd57-91fe-411f-b798-646e965eec37</td>\n",
       "      <td>U</td>\n",
       "    </tr>\n",
       "  </tbody>\n",
       "</table>\n",
       "</div>"
      ],
      "text/plain": [
       "                                     id color_identity\n",
       "0  0000419b-0bba-4488-8f7a-6194544ce91e              G\n",
       "1  0000579f-7b35-4ed3-b44c-db2a538066fe              R\n",
       "2  00006596-1166-4a79-8443-ca9f82e6db4e              W\n",
       "3  0000a54c-a511-4925-92dc-01b937f9afad              W\n",
       "4  0000cd57-91fe-411f-b798-646e965eec37              U"
      ]
     },
     "execution_count": 6,
     "metadata": {},
     "output_type": "execute_result"
    }
   ],
   "source": [
    "dim_colors_df.head()"
   ]
  },
  {
   "cell_type": "markdown",
   "id": "112752a1",
   "metadata": {},
   "source": [
    "## DIM Keywords (One-To-Many)"
   ]
  },
  {
   "cell_type": "code",
   "execution_count": 7,
   "id": "317eb7b1",
   "metadata": {},
   "outputs": [],
   "source": [
    "dim_keywords_df = explode_list_column(df, id_col=\"id\", list_col=\"keywords\")"
   ]
  },
  {
   "cell_type": "code",
   "execution_count": 8,
   "id": "6b9b27cc",
   "metadata": {
    "scrolled": true
   },
   "outputs": [
    {
     "data": {
      "text/html": [
       "<div>\n",
       "<style scoped>\n",
       "    .dataframe tbody tr th:only-of-type {\n",
       "        vertical-align: middle;\n",
       "    }\n",
       "\n",
       "    .dataframe tbody tr th {\n",
       "        vertical-align: top;\n",
       "    }\n",
       "\n",
       "    .dataframe thead th {\n",
       "        text-align: right;\n",
       "    }\n",
       "</style>\n",
       "<table border=\"1\" class=\"dataframe\">\n",
       "  <thead>\n",
       "    <tr style=\"text-align: right;\">\n",
       "      <th></th>\n",
       "      <th>id</th>\n",
       "      <th>keyword</th>\n",
       "    </tr>\n",
       "  </thead>\n",
       "  <tbody>\n",
       "    <tr>\n",
       "      <th>0</th>\n",
       "      <td>0000a54c-a511-4925-92dc-01b937f9afad</td>\n",
       "      <td>Flying</td>\n",
       "    </tr>\n",
       "    <tr>\n",
       "      <th>1</th>\n",
       "      <td>0000cd57-91fe-411f-b798-646e965eec37</td>\n",
       "      <td>Flying</td>\n",
       "    </tr>\n",
       "    <tr>\n",
       "      <th>2</th>\n",
       "      <td>0000cd57-91fe-411f-b798-646e965eec37</td>\n",
       "      <td>Explore</td>\n",
       "    </tr>\n",
       "    <tr>\n",
       "      <th>3</th>\n",
       "      <td>00012bd8-ed68-4978-a22d-f450c8a6e048</td>\n",
       "      <td>Enchant</td>\n",
       "    </tr>\n",
       "    <tr>\n",
       "      <th>4</th>\n",
       "      <td>0001c639-8bd0-426f-89cb-4ca61f3cc054</td>\n",
       "      <td>Paradox</td>\n",
       "    </tr>\n",
       "  </tbody>\n",
       "</table>\n",
       "</div>"
      ],
      "text/plain": [
       "                                     id  keyword\n",
       "0  0000a54c-a511-4925-92dc-01b937f9afad   Flying\n",
       "1  0000cd57-91fe-411f-b798-646e965eec37   Flying\n",
       "2  0000cd57-91fe-411f-b798-646e965eec37  Explore\n",
       "3  00012bd8-ed68-4978-a22d-f450c8a6e048  Enchant\n",
       "4  0001c639-8bd0-426f-89cb-4ca61f3cc054  Paradox"
      ]
     },
     "execution_count": 8,
     "metadata": {},
     "output_type": "execute_result"
    }
   ],
   "source": [
    "dim_keywords_df.head()"
   ]
  },
  {
   "cell_type": "markdown",
   "id": "b309947c",
   "metadata": {},
   "source": [
    "## DIM Rarity (One-to-One)"
   ]
  },
  {
   "cell_type": "code",
   "execution_count": 9,
   "id": "496a546b",
   "metadata": {},
   "outputs": [],
   "source": [
    "ordered_rarities = ['common', 'uncommon', 'rare', 'mythic', 'bonus', 'special']\n",
    "rarity_mapping = {rarity: idx + 1 for idx, rarity in enumerate(ordered_rarities)}\n",
    "df['rarity_id'] = df['rarity'].map(rarity_mapping)\n",
    "dim_rarity_df = pd.DataFrame({'rarity': ordered_rarities})\n",
    "dim_rarity_df['rarity_id'] = dim_rarity_df.index + 1\n",
    "dim_rarity_df = dim_rarity_df[['rarity_id', 'rarity']]"
   ]
  },
  {
   "cell_type": "code",
   "execution_count": 10,
   "id": "a9223ab3",
   "metadata": {
    "scrolled": true
   },
   "outputs": [
    {
     "data": {
      "text/html": [
       "<div>\n",
       "<style scoped>\n",
       "    .dataframe tbody tr th:only-of-type {\n",
       "        vertical-align: middle;\n",
       "    }\n",
       "\n",
       "    .dataframe tbody tr th {\n",
       "        vertical-align: top;\n",
       "    }\n",
       "\n",
       "    .dataframe thead th {\n",
       "        text-align: right;\n",
       "    }\n",
       "</style>\n",
       "<table border=\"1\" class=\"dataframe\">\n",
       "  <thead>\n",
       "    <tr style=\"text-align: right;\">\n",
       "      <th></th>\n",
       "      <th>rarity_id</th>\n",
       "      <th>rarity</th>\n",
       "    </tr>\n",
       "  </thead>\n",
       "  <tbody>\n",
       "    <tr>\n",
       "      <th>0</th>\n",
       "      <td>1</td>\n",
       "      <td>common</td>\n",
       "    </tr>\n",
       "    <tr>\n",
       "      <th>1</th>\n",
       "      <td>2</td>\n",
       "      <td>uncommon</td>\n",
       "    </tr>\n",
       "    <tr>\n",
       "      <th>2</th>\n",
       "      <td>3</td>\n",
       "      <td>rare</td>\n",
       "    </tr>\n",
       "    <tr>\n",
       "      <th>3</th>\n",
       "      <td>4</td>\n",
       "      <td>mythic</td>\n",
       "    </tr>\n",
       "    <tr>\n",
       "      <th>4</th>\n",
       "      <td>5</td>\n",
       "      <td>bonus</td>\n",
       "    </tr>\n",
       "  </tbody>\n",
       "</table>\n",
       "</div>"
      ],
      "text/plain": [
       "   rarity_id    rarity\n",
       "0          1    common\n",
       "1          2  uncommon\n",
       "2          3      rare\n",
       "3          4    mythic\n",
       "4          5     bonus"
      ]
     },
     "execution_count": 10,
     "metadata": {},
     "output_type": "execute_result"
    }
   ],
   "source": [
    "dim_rarity_df.head()"
   ]
  },
  {
   "cell_type": "markdown",
   "id": "89f92e0b",
   "metadata": {},
   "source": [
    "## DIM Set (One-to-Many) "
   ]
  },
  {
   "cell_type": "code",
   "execution_count": 11,
   "id": "ce72994b",
   "metadata": {},
   "outputs": [],
   "source": [
    "dim_set_df = df[['set', 'set_name', 'set_type']].drop_duplicates().reset_index(drop=True)\n",
    "dim_set_df['set_id'] = dim_set_df.index + 1\n",
    "set_mapping = dict(zip(dim_set_df['set'], dim_set_df['set_id']))\n",
    "df['set_id'] = df['set'].map(set_mapping)\n",
    "dim_set_df = dim_set_df[['set_id', 'set', 'set_name', 'set_type']]"
   ]
  },
  {
   "cell_type": "code",
   "execution_count": 12,
   "id": "1dd6d596",
   "metadata": {
    "scrolled": true
   },
   "outputs": [
    {
     "data": {
      "text/html": [
       "<div>\n",
       "<style scoped>\n",
       "    .dataframe tbody tr th:only-of-type {\n",
       "        vertical-align: middle;\n",
       "    }\n",
       "\n",
       "    .dataframe tbody tr th {\n",
       "        vertical-align: top;\n",
       "    }\n",
       "\n",
       "    .dataframe thead th {\n",
       "        text-align: right;\n",
       "    }\n",
       "</style>\n",
       "<table border=\"1\" class=\"dataframe\">\n",
       "  <thead>\n",
       "    <tr style=\"text-align: right;\">\n",
       "      <th></th>\n",
       "      <th>set_id</th>\n",
       "      <th>set</th>\n",
       "      <th>set_name</th>\n",
       "      <th>set_type</th>\n",
       "    </tr>\n",
       "  </thead>\n",
       "  <tbody>\n",
       "    <tr>\n",
       "      <th>0</th>\n",
       "      <td>1</td>\n",
       "      <td>blb</td>\n",
       "      <td>Bloomburrow</td>\n",
       "      <td>expansion</td>\n",
       "    </tr>\n",
       "    <tr>\n",
       "      <th>1</th>\n",
       "      <td>2</td>\n",
       "      <td>tsp</td>\n",
       "      <td>Time Spiral</td>\n",
       "      <td>expansion</td>\n",
       "    </tr>\n",
       "    <tr>\n",
       "      <th>2</th>\n",
       "      <td>3</td>\n",
       "      <td>zen</td>\n",
       "      <td>Zendikar</td>\n",
       "      <td>expansion</td>\n",
       "    </tr>\n",
       "    <tr>\n",
       "      <th>3</th>\n",
       "      <td>4</td>\n",
       "      <td>tmm2</td>\n",
       "      <td>Modern Masters 2015 Tokens</td>\n",
       "      <td>token</td>\n",
       "    </tr>\n",
       "    <tr>\n",
       "      <th>4</th>\n",
       "      <td>5</td>\n",
       "      <td>xln</td>\n",
       "      <td>Ixalan</td>\n",
       "      <td>expansion</td>\n",
       "    </tr>\n",
       "  </tbody>\n",
       "</table>\n",
       "</div>"
      ],
      "text/plain": [
       "   set_id   set                    set_name   set_type\n",
       "0       1   blb                 Bloomburrow  expansion\n",
       "1       2   tsp                 Time Spiral  expansion\n",
       "2       3   zen                    Zendikar  expansion\n",
       "3       4  tmm2  Modern Masters 2015 Tokens      token\n",
       "4       5   xln                      Ixalan  expansion"
      ]
     },
     "execution_count": 12,
     "metadata": {},
     "output_type": "execute_result"
    }
   ],
   "source": [
    "dim_set_df.head()"
   ]
  },
  {
   "cell_type": "markdown",
   "id": "29b6179b",
   "metadata": {},
   "source": [
    "## DIM Legalities (One-to-One)"
   ]
  },
  {
   "cell_type": "code",
   "execution_count": 13,
   "id": "a69dadd1",
   "metadata": {},
   "outputs": [],
   "source": [
    "legal_cols = [col for col in df.columns if col.startswith(\"legalities.\")]\n",
    "dim_legalities_df = df[['id'] + legal_cols].copy()\n",
    "dim_legalities_df.columns = dim_legalities_df.columns.str.replace('legalities.', '', regex=False)"
   ]
  },
  {
   "cell_type": "code",
   "execution_count": 14,
   "id": "51253bc2",
   "metadata": {
    "scrolled": true
   },
   "outputs": [
    {
     "data": {
      "text/html": [
       "<div>\n",
       "<style scoped>\n",
       "    .dataframe tbody tr th:only-of-type {\n",
       "        vertical-align: middle;\n",
       "    }\n",
       "\n",
       "    .dataframe tbody tr th {\n",
       "        vertical-align: top;\n",
       "    }\n",
       "\n",
       "    .dataframe thead th {\n",
       "        text-align: right;\n",
       "    }\n",
       "</style>\n",
       "<table border=\"1\" class=\"dataframe\">\n",
       "  <thead>\n",
       "    <tr style=\"text-align: right;\">\n",
       "      <th></th>\n",
       "      <th>id</th>\n",
       "      <th>standard</th>\n",
       "      <th>future</th>\n",
       "      <th>historic</th>\n",
       "      <th>timeless</th>\n",
       "      <th>gladiator</th>\n",
       "      <th>pioneer</th>\n",
       "      <th>modern</th>\n",
       "      <th>legacy</th>\n",
       "      <th>pauper</th>\n",
       "      <th>...</th>\n",
       "      <th>commander</th>\n",
       "      <th>oathbreaker</th>\n",
       "      <th>standardbrawl</th>\n",
       "      <th>brawl</th>\n",
       "      <th>alchemy</th>\n",
       "      <th>paupercommander</th>\n",
       "      <th>duel</th>\n",
       "      <th>oldschool</th>\n",
       "      <th>premodern</th>\n",
       "      <th>predh</th>\n",
       "    </tr>\n",
       "  </thead>\n",
       "  <tbody>\n",
       "    <tr>\n",
       "      <th>0</th>\n",
       "      <td>0000419b-0bba-4488-8f7a-6194544ce91e</td>\n",
       "      <td>legal</td>\n",
       "      <td>legal</td>\n",
       "      <td>legal</td>\n",
       "      <td>legal</td>\n",
       "      <td>legal</td>\n",
       "      <td>legal</td>\n",
       "      <td>legal</td>\n",
       "      <td>legal</td>\n",
       "      <td>legal</td>\n",
       "      <td>...</td>\n",
       "      <td>legal</td>\n",
       "      <td>legal</td>\n",
       "      <td>legal</td>\n",
       "      <td>legal</td>\n",
       "      <td>legal</td>\n",
       "      <td>legal</td>\n",
       "      <td>legal</td>\n",
       "      <td>not_legal</td>\n",
       "      <td>legal</td>\n",
       "      <td>legal</td>\n",
       "    </tr>\n",
       "    <tr>\n",
       "      <th>1</th>\n",
       "      <td>0000579f-7b35-4ed3-b44c-db2a538066fe</td>\n",
       "      <td>not_legal</td>\n",
       "      <td>not_legal</td>\n",
       "      <td>not_legal</td>\n",
       "      <td>not_legal</td>\n",
       "      <td>not_legal</td>\n",
       "      <td>not_legal</td>\n",
       "      <td>legal</td>\n",
       "      <td>legal</td>\n",
       "      <td>not_legal</td>\n",
       "      <td>...</td>\n",
       "      <td>legal</td>\n",
       "      <td>legal</td>\n",
       "      <td>not_legal</td>\n",
       "      <td>not_legal</td>\n",
       "      <td>not_legal</td>\n",
       "      <td>not_legal</td>\n",
       "      <td>legal</td>\n",
       "      <td>not_legal</td>\n",
       "      <td>not_legal</td>\n",
       "      <td>legal</td>\n",
       "    </tr>\n",
       "    <tr>\n",
       "      <th>2</th>\n",
       "      <td>00006596-1166-4a79-8443-ca9f82e6db4e</td>\n",
       "      <td>not_legal</td>\n",
       "      <td>not_legal</td>\n",
       "      <td>not_legal</td>\n",
       "      <td>not_legal</td>\n",
       "      <td>not_legal</td>\n",
       "      <td>not_legal</td>\n",
       "      <td>legal</td>\n",
       "      <td>legal</td>\n",
       "      <td>legal</td>\n",
       "      <td>...</td>\n",
       "      <td>legal</td>\n",
       "      <td>legal</td>\n",
       "      <td>not_legal</td>\n",
       "      <td>not_legal</td>\n",
       "      <td>not_legal</td>\n",
       "      <td>legal</td>\n",
       "      <td>legal</td>\n",
       "      <td>not_legal</td>\n",
       "      <td>not_legal</td>\n",
       "      <td>legal</td>\n",
       "    </tr>\n",
       "    <tr>\n",
       "      <th>3</th>\n",
       "      <td>0000a54c-a511-4925-92dc-01b937f9afad</td>\n",
       "      <td>not_legal</td>\n",
       "      <td>not_legal</td>\n",
       "      <td>not_legal</td>\n",
       "      <td>not_legal</td>\n",
       "      <td>not_legal</td>\n",
       "      <td>not_legal</td>\n",
       "      <td>not_legal</td>\n",
       "      <td>not_legal</td>\n",
       "      <td>not_legal</td>\n",
       "      <td>...</td>\n",
       "      <td>not_legal</td>\n",
       "      <td>not_legal</td>\n",
       "      <td>not_legal</td>\n",
       "      <td>not_legal</td>\n",
       "      <td>not_legal</td>\n",
       "      <td>not_legal</td>\n",
       "      <td>not_legal</td>\n",
       "      <td>not_legal</td>\n",
       "      <td>not_legal</td>\n",
       "      <td>not_legal</td>\n",
       "    </tr>\n",
       "    <tr>\n",
       "      <th>4</th>\n",
       "      <td>0000cd57-91fe-411f-b798-646e965eec37</td>\n",
       "      <td>not_legal</td>\n",
       "      <td>not_legal</td>\n",
       "      <td>legal</td>\n",
       "      <td>legal</td>\n",
       "      <td>legal</td>\n",
       "      <td>legal</td>\n",
       "      <td>legal</td>\n",
       "      <td>legal</td>\n",
       "      <td>legal</td>\n",
       "      <td>...</td>\n",
       "      <td>legal</td>\n",
       "      <td>legal</td>\n",
       "      <td>not_legal</td>\n",
       "      <td>legal</td>\n",
       "      <td>not_legal</td>\n",
       "      <td>legal</td>\n",
       "      <td>legal</td>\n",
       "      <td>not_legal</td>\n",
       "      <td>not_legal</td>\n",
       "      <td>not_legal</td>\n",
       "    </tr>\n",
       "  </tbody>\n",
       "</table>\n",
       "<p>5 rows × 22 columns</p>\n",
       "</div>"
      ],
      "text/plain": [
       "                                     id   standard     future   historic  \\\n",
       "0  0000419b-0bba-4488-8f7a-6194544ce91e      legal      legal      legal   \n",
       "1  0000579f-7b35-4ed3-b44c-db2a538066fe  not_legal  not_legal  not_legal   \n",
       "2  00006596-1166-4a79-8443-ca9f82e6db4e  not_legal  not_legal  not_legal   \n",
       "3  0000a54c-a511-4925-92dc-01b937f9afad  not_legal  not_legal  not_legal   \n",
       "4  0000cd57-91fe-411f-b798-646e965eec37  not_legal  not_legal      legal   \n",
       "\n",
       "    timeless  gladiator    pioneer     modern     legacy     pauper  ...  \\\n",
       "0      legal      legal      legal      legal      legal      legal  ...   \n",
       "1  not_legal  not_legal  not_legal      legal      legal  not_legal  ...   \n",
       "2  not_legal  not_legal  not_legal      legal      legal      legal  ...   \n",
       "3  not_legal  not_legal  not_legal  not_legal  not_legal  not_legal  ...   \n",
       "4      legal      legal      legal      legal      legal      legal  ...   \n",
       "\n",
       "   commander oathbreaker standardbrawl      brawl    alchemy paupercommander  \\\n",
       "0      legal       legal         legal      legal      legal           legal   \n",
       "1      legal       legal     not_legal  not_legal  not_legal       not_legal   \n",
       "2      legal       legal     not_legal  not_legal  not_legal           legal   \n",
       "3  not_legal   not_legal     not_legal  not_legal  not_legal       not_legal   \n",
       "4      legal       legal     not_legal      legal  not_legal           legal   \n",
       "\n",
       "        duel  oldschool  premodern      predh  \n",
       "0      legal  not_legal      legal      legal  \n",
       "1      legal  not_legal  not_legal      legal  \n",
       "2      legal  not_legal  not_legal      legal  \n",
       "3  not_legal  not_legal  not_legal  not_legal  \n",
       "4      legal  not_legal  not_legal  not_legal  \n",
       "\n",
       "[5 rows x 22 columns]"
      ]
     },
     "execution_count": 14,
     "metadata": {},
     "output_type": "execute_result"
    }
   ],
   "source": [
    "dim_legalities_df.head()"
   ]
  },
  {
   "cell_type": "markdown",
   "id": "61f404f2",
   "metadata": {},
   "source": [
    "## DIM Image URL (0/One-to-One)"
   ]
  },
  {
   "cell_type": "code",
   "execution_count": 15,
   "id": "931753c9",
   "metadata": {},
   "outputs": [],
   "source": [
    "image_cols = [col for col in df.columns if col.startswith(\"image_uris.\")]\n",
    "dim_image_df = df[['id'] + image_cols].copy()\n",
    "dim_image_df.columns = dim_image_df.columns.str.replace('image_uris.', '', regex=False)\n",
    "image_only_cols = dim_image_df.columns.difference(['id'])\n",
    "dim_image_df = dim_image_df[~dim_image_df[image_only_cols].isnull().all(axis=1)]"
   ]
  },
  {
   "cell_type": "code",
   "execution_count": 16,
   "id": "9916160d",
   "metadata": {
    "scrolled": true
   },
   "outputs": [
    {
     "data": {
      "text/html": [
       "<div>\n",
       "<style scoped>\n",
       "    .dataframe tbody tr th:only-of-type {\n",
       "        vertical-align: middle;\n",
       "    }\n",
       "\n",
       "    .dataframe tbody tr th {\n",
       "        vertical-align: top;\n",
       "    }\n",
       "\n",
       "    .dataframe thead th {\n",
       "        text-align: right;\n",
       "    }\n",
       "</style>\n",
       "<table border=\"1\" class=\"dataframe\">\n",
       "  <thead>\n",
       "    <tr style=\"text-align: right;\">\n",
       "      <th></th>\n",
       "      <th>id</th>\n",
       "      <th>small</th>\n",
       "      <th>normal</th>\n",
       "      <th>large</th>\n",
       "      <th>png</th>\n",
       "      <th>art_crop</th>\n",
       "      <th>border_crop</th>\n",
       "    </tr>\n",
       "  </thead>\n",
       "  <tbody>\n",
       "    <tr>\n",
       "      <th>0</th>\n",
       "      <td>0000419b-0bba-4488-8f7a-6194544ce91e</td>\n",
       "      <td>https://cards.scryfall.io/small/front/0/0/0000...</td>\n",
       "      <td>https://cards.scryfall.io/normal/front/0/0/000...</td>\n",
       "      <td>https://cards.scryfall.io/large/front/0/0/0000...</td>\n",
       "      <td>https://cards.scryfall.io/png/front/0/0/000041...</td>\n",
       "      <td>https://cards.scryfall.io/art_crop/front/0/0/0...</td>\n",
       "      <td>https://cards.scryfall.io/border_crop/front/0/...</td>\n",
       "    </tr>\n",
       "    <tr>\n",
       "      <th>1</th>\n",
       "      <td>0000579f-7b35-4ed3-b44c-db2a538066fe</td>\n",
       "      <td>https://cards.scryfall.io/small/front/0/0/0000...</td>\n",
       "      <td>https://cards.scryfall.io/normal/front/0/0/000...</td>\n",
       "      <td>https://cards.scryfall.io/large/front/0/0/0000...</td>\n",
       "      <td>https://cards.scryfall.io/png/front/0/0/000057...</td>\n",
       "      <td>https://cards.scryfall.io/art_crop/front/0/0/0...</td>\n",
       "      <td>https://cards.scryfall.io/border_crop/front/0/...</td>\n",
       "    </tr>\n",
       "    <tr>\n",
       "      <th>2</th>\n",
       "      <td>00006596-1166-4a79-8443-ca9f82e6db4e</td>\n",
       "      <td>https://cards.scryfall.io/small/front/0/0/0000...</td>\n",
       "      <td>https://cards.scryfall.io/normal/front/0/0/000...</td>\n",
       "      <td>https://cards.scryfall.io/large/front/0/0/0000...</td>\n",
       "      <td>https://cards.scryfall.io/png/front/0/0/000065...</td>\n",
       "      <td>https://cards.scryfall.io/art_crop/front/0/0/0...</td>\n",
       "      <td>https://cards.scryfall.io/border_crop/front/0/...</td>\n",
       "    </tr>\n",
       "    <tr>\n",
       "      <th>3</th>\n",
       "      <td>0000a54c-a511-4925-92dc-01b937f9afad</td>\n",
       "      <td>https://cards.scryfall.io/small/front/0/0/0000...</td>\n",
       "      <td>https://cards.scryfall.io/normal/front/0/0/000...</td>\n",
       "      <td>https://cards.scryfall.io/large/front/0/0/0000...</td>\n",
       "      <td>https://cards.scryfall.io/png/front/0/0/0000a5...</td>\n",
       "      <td>https://cards.scryfall.io/art_crop/front/0/0/0...</td>\n",
       "      <td>https://cards.scryfall.io/border_crop/front/0/...</td>\n",
       "    </tr>\n",
       "    <tr>\n",
       "      <th>4</th>\n",
       "      <td>0000cd57-91fe-411f-b798-646e965eec37</td>\n",
       "      <td>https://cards.scryfall.io/small/front/0/0/0000...</td>\n",
       "      <td>https://cards.scryfall.io/normal/front/0/0/000...</td>\n",
       "      <td>https://cards.scryfall.io/large/front/0/0/0000...</td>\n",
       "      <td>https://cards.scryfall.io/png/front/0/0/0000cd...</td>\n",
       "      <td>https://cards.scryfall.io/art_crop/front/0/0/0...</td>\n",
       "      <td>https://cards.scryfall.io/border_crop/front/0/...</td>\n",
       "    </tr>\n",
       "  </tbody>\n",
       "</table>\n",
       "</div>"
      ],
      "text/plain": [
       "                                     id  \\\n",
       "0  0000419b-0bba-4488-8f7a-6194544ce91e   \n",
       "1  0000579f-7b35-4ed3-b44c-db2a538066fe   \n",
       "2  00006596-1166-4a79-8443-ca9f82e6db4e   \n",
       "3  0000a54c-a511-4925-92dc-01b937f9afad   \n",
       "4  0000cd57-91fe-411f-b798-646e965eec37   \n",
       "\n",
       "                                               small  \\\n",
       "0  https://cards.scryfall.io/small/front/0/0/0000...   \n",
       "1  https://cards.scryfall.io/small/front/0/0/0000...   \n",
       "2  https://cards.scryfall.io/small/front/0/0/0000...   \n",
       "3  https://cards.scryfall.io/small/front/0/0/0000...   \n",
       "4  https://cards.scryfall.io/small/front/0/0/0000...   \n",
       "\n",
       "                                              normal  \\\n",
       "0  https://cards.scryfall.io/normal/front/0/0/000...   \n",
       "1  https://cards.scryfall.io/normal/front/0/0/000...   \n",
       "2  https://cards.scryfall.io/normal/front/0/0/000...   \n",
       "3  https://cards.scryfall.io/normal/front/0/0/000...   \n",
       "4  https://cards.scryfall.io/normal/front/0/0/000...   \n",
       "\n",
       "                                               large  \\\n",
       "0  https://cards.scryfall.io/large/front/0/0/0000...   \n",
       "1  https://cards.scryfall.io/large/front/0/0/0000...   \n",
       "2  https://cards.scryfall.io/large/front/0/0/0000...   \n",
       "3  https://cards.scryfall.io/large/front/0/0/0000...   \n",
       "4  https://cards.scryfall.io/large/front/0/0/0000...   \n",
       "\n",
       "                                                 png  \\\n",
       "0  https://cards.scryfall.io/png/front/0/0/000041...   \n",
       "1  https://cards.scryfall.io/png/front/0/0/000057...   \n",
       "2  https://cards.scryfall.io/png/front/0/0/000065...   \n",
       "3  https://cards.scryfall.io/png/front/0/0/0000a5...   \n",
       "4  https://cards.scryfall.io/png/front/0/0/0000cd...   \n",
       "\n",
       "                                            art_crop  \\\n",
       "0  https://cards.scryfall.io/art_crop/front/0/0/0...   \n",
       "1  https://cards.scryfall.io/art_crop/front/0/0/0...   \n",
       "2  https://cards.scryfall.io/art_crop/front/0/0/0...   \n",
       "3  https://cards.scryfall.io/art_crop/front/0/0/0...   \n",
       "4  https://cards.scryfall.io/art_crop/front/0/0/0...   \n",
       "\n",
       "                                         border_crop  \n",
       "0  https://cards.scryfall.io/border_crop/front/0/...  \n",
       "1  https://cards.scryfall.io/border_crop/front/0/...  \n",
       "2  https://cards.scryfall.io/border_crop/front/0/...  \n",
       "3  https://cards.scryfall.io/border_crop/front/0/...  \n",
       "4  https://cards.scryfall.io/border_crop/front/0/...  "
      ]
     },
     "execution_count": 16,
     "metadata": {},
     "output_type": "execute_result"
    }
   ],
   "source": [
    "dim_image_df.head()"
   ]
  },
  {
   "cell_type": "markdown",
   "id": "96356617",
   "metadata": {},
   "source": [
    "## DIM Purchase (0/One-to-One)"
   ]
  },
  {
   "cell_type": "code",
   "execution_count": 17,
   "id": "9ac2cc43",
   "metadata": {},
   "outputs": [],
   "source": [
    "purch_cols = [col for col in df.columns if col.startswith(\"purchase_uris.\")]\n",
    "dim_purchase_df = df[['id'] + purch_cols].copy()\n",
    "dim_purchase_df.columns = dim_purchase_df.columns.str.replace('purchase_uris.', '', regex=False)\n",
    "purch_only_cols = dim_purchase_df.columns.difference(['id'])\n",
    "dim_purchase_df = dim_purchase_df[~dim_purchase_df[purch_only_cols].isnull().all(axis=1)]"
   ]
  },
  {
   "cell_type": "code",
   "execution_count": 18,
   "id": "ab0bc147",
   "metadata": {},
   "outputs": [
    {
     "data": {
      "text/html": [
       "<div>\n",
       "<style scoped>\n",
       "    .dataframe tbody tr th:only-of-type {\n",
       "        vertical-align: middle;\n",
       "    }\n",
       "\n",
       "    .dataframe tbody tr th {\n",
       "        vertical-align: top;\n",
       "    }\n",
       "\n",
       "    .dataframe thead th {\n",
       "        text-align: right;\n",
       "    }\n",
       "</style>\n",
       "<table border=\"1\" class=\"dataframe\">\n",
       "  <thead>\n",
       "    <tr style=\"text-align: right;\">\n",
       "      <th></th>\n",
       "      <th>id</th>\n",
       "      <th>tcgplayer</th>\n",
       "      <th>cardmarket</th>\n",
       "      <th>cardhoarder</th>\n",
       "    </tr>\n",
       "  </thead>\n",
       "  <tbody>\n",
       "    <tr>\n",
       "      <th>0</th>\n",
       "      <td>0000419b-0bba-4488-8f7a-6194544ce91e</td>\n",
       "      <td>https://partner.tcgplayer.com/c/4931599/183015...</td>\n",
       "      <td>https://www.cardmarket.com/en/Magic/Products?i...</td>\n",
       "      <td>https://www.cardhoarder.com/cards/129825?affil...</td>\n",
       "    </tr>\n",
       "    <tr>\n",
       "      <th>1</th>\n",
       "      <td>0000579f-7b35-4ed3-b44c-db2a538066fe</td>\n",
       "      <td>https://partner.tcgplayer.com/c/4931599/183015...</td>\n",
       "      <td>https://www.cardmarket.com/en/Magic/Products?i...</td>\n",
       "      <td>https://www.cardhoarder.com/cards/25527?affili...</td>\n",
       "    </tr>\n",
       "    <tr>\n",
       "      <th>2</th>\n",
       "      <td>00006596-1166-4a79-8443-ca9f82e6db4e</td>\n",
       "      <td>https://partner.tcgplayer.com/c/4931599/183015...</td>\n",
       "      <td>https://www.cardmarket.com/en/Magic/Products?i...</td>\n",
       "      <td>https://www.cardhoarder.com/cards/34586?affili...</td>\n",
       "    </tr>\n",
       "    <tr>\n",
       "      <th>3</th>\n",
       "      <td>0000a54c-a511-4925-92dc-01b937f9afad</td>\n",
       "      <td>https://partner.tcgplayer.com/c/4931599/183015...</td>\n",
       "      <td>https://www.cardmarket.com/en/Magic/Products/S...</td>\n",
       "      <td>https://www.cardhoarder.com/cards?affiliate_id...</td>\n",
       "    </tr>\n",
       "    <tr>\n",
       "      <th>4</th>\n",
       "      <td>0000cd57-91fe-411f-b798-646e965eec37</td>\n",
       "      <td>https://partner.tcgplayer.com/c/4931599/183015...</td>\n",
       "      <td>https://www.cardmarket.com/en/Magic/Products?i...</td>\n",
       "      <td>https://www.cardhoarder.com/cards/65170?affili...</td>\n",
       "    </tr>\n",
       "  </tbody>\n",
       "</table>\n",
       "</div>"
      ],
      "text/plain": [
       "                                     id  \\\n",
       "0  0000419b-0bba-4488-8f7a-6194544ce91e   \n",
       "1  0000579f-7b35-4ed3-b44c-db2a538066fe   \n",
       "2  00006596-1166-4a79-8443-ca9f82e6db4e   \n",
       "3  0000a54c-a511-4925-92dc-01b937f9afad   \n",
       "4  0000cd57-91fe-411f-b798-646e965eec37   \n",
       "\n",
       "                                           tcgplayer  \\\n",
       "0  https://partner.tcgplayer.com/c/4931599/183015...   \n",
       "1  https://partner.tcgplayer.com/c/4931599/183015...   \n",
       "2  https://partner.tcgplayer.com/c/4931599/183015...   \n",
       "3  https://partner.tcgplayer.com/c/4931599/183015...   \n",
       "4  https://partner.tcgplayer.com/c/4931599/183015...   \n",
       "\n",
       "                                          cardmarket  \\\n",
       "0  https://www.cardmarket.com/en/Magic/Products?i...   \n",
       "1  https://www.cardmarket.com/en/Magic/Products?i...   \n",
       "2  https://www.cardmarket.com/en/Magic/Products?i...   \n",
       "3  https://www.cardmarket.com/en/Magic/Products/S...   \n",
       "4  https://www.cardmarket.com/en/Magic/Products?i...   \n",
       "\n",
       "                                         cardhoarder  \n",
       "0  https://www.cardhoarder.com/cards/129825?affil...  \n",
       "1  https://www.cardhoarder.com/cards/25527?affili...  \n",
       "2  https://www.cardhoarder.com/cards/34586?affili...  \n",
       "3  https://www.cardhoarder.com/cards?affiliate_id...  \n",
       "4  https://www.cardhoarder.com/cards/65170?affili...  "
      ]
     },
     "execution_count": 18,
     "metadata": {},
     "output_type": "execute_result"
    }
   ],
   "source": [
    "dim_purchase_df.head()"
   ]
  },
  {
   "cell_type": "markdown",
   "id": "d9d4895d",
   "metadata": {},
   "source": [
    "## Dim Type (One-To-One)"
   ]
  },
  {
   "cell_type": "code",
   "execution_count": 19,
   "id": "09cfbbf5",
   "metadata": {},
   "outputs": [],
   "source": [
    "# Dim Type Table\n",
    "df[['supertypes', 'types', 'subtypes']] = df['type_line'].str.extract(\n",
    "    r'^(?:(?P<supertypes>[\\w ]+?) )?(?P<types>[^—]+?)(?: — (?P<subtypes>.*))?$'\n",
    ")\n",
    "for col in ['supertypes', 'types', 'subtypes']:\n",
    "    df[col] = df[col].str.strip().replace(r'^\\s*$', pd.NA, regex=True)\n",
    "\n",
    "dim_type_df = df[['supertypes', 'types', 'subtypes']].drop_duplicates().reset_index(drop=True)\n",
    "dim_type_df.insert(0, 'type_id', range(1, len(dim_type_df) + 1))\n",
    "df = df.merge(dim_type_df, on=['supertypes', 'types', 'subtypes'], how='left')"
   ]
  },
  {
   "cell_type": "code",
   "execution_count": 20,
   "id": "41564775",
   "metadata": {
    "scrolled": true
   },
   "outputs": [
    {
     "data": {
      "text/html": [
       "<div>\n",
       "<style scoped>\n",
       "    .dataframe tbody tr th:only-of-type {\n",
       "        vertical-align: middle;\n",
       "    }\n",
       "\n",
       "    .dataframe tbody tr th {\n",
       "        vertical-align: top;\n",
       "    }\n",
       "\n",
       "    .dataframe thead th {\n",
       "        text-align: right;\n",
       "    }\n",
       "</style>\n",
       "<table border=\"1\" class=\"dataframe\">\n",
       "  <thead>\n",
       "    <tr style=\"text-align: right;\">\n",
       "      <th></th>\n",
       "      <th>type_id</th>\n",
       "      <th>supertypes</th>\n",
       "      <th>types</th>\n",
       "      <th>subtypes</th>\n",
       "    </tr>\n",
       "  </thead>\n",
       "  <tbody>\n",
       "    <tr>\n",
       "      <th>0</th>\n",
       "      <td>1</td>\n",
       "      <td>Basic</td>\n",
       "      <td>Land</td>\n",
       "      <td>Forest</td>\n",
       "    </tr>\n",
       "    <tr>\n",
       "      <th>1</th>\n",
       "      <td>2</td>\n",
       "      <td>NaN</td>\n",
       "      <td>Creature</td>\n",
       "      <td>Sliver</td>\n",
       "    </tr>\n",
       "    <tr>\n",
       "      <th>2</th>\n",
       "      <td>3</td>\n",
       "      <td>NaN</td>\n",
       "      <td>Creature</td>\n",
       "      <td>Kor Soldier</td>\n",
       "    </tr>\n",
       "    <tr>\n",
       "      <th>3</th>\n",
       "      <td>4</td>\n",
       "      <td>Token</td>\n",
       "      <td>Creature</td>\n",
       "      <td>Spirit</td>\n",
       "    </tr>\n",
       "    <tr>\n",
       "      <th>4</th>\n",
       "      <td>5</td>\n",
       "      <td>NaN</td>\n",
       "      <td>Creature</td>\n",
       "      <td>Siren Pirate</td>\n",
       "    </tr>\n",
       "  </tbody>\n",
       "</table>\n",
       "</div>"
      ],
      "text/plain": [
       "   type_id supertypes     types      subtypes\n",
       "0        1      Basic      Land        Forest\n",
       "1        2        NaN  Creature        Sliver\n",
       "2        3        NaN  Creature   Kor Soldier\n",
       "3        4      Token  Creature        Spirit\n",
       "4        5        NaN  Creature  Siren Pirate"
      ]
     },
     "execution_count": 20,
     "metadata": {},
     "output_type": "execute_result"
    }
   ],
   "source": [
    "dim_type_df.head()"
   ]
  },
  {
   "cell_type": "markdown",
   "id": "be7e2c42",
   "metadata": {},
   "source": [
    "# Step 4: Fact Tables (Transform Cont..)"
   ]
  },
  {
   "cell_type": "markdown",
   "id": "86071b11",
   "metadata": {},
   "source": [
    "## Fact Card"
   ]
  },
  {
   "cell_type": "code",
   "execution_count": 21,
   "id": "f8997862",
   "metadata": {},
   "outputs": [],
   "source": [
    "# Fact Card Table\n",
    "fact_card_df = df[['id', 'released_at', 'name', 'mana_cost', 'cmc', 'power',\n",
    "                   'toughness', 'is_multicolor', 'is_colorless', 'rarity_id',\n",
    "                   'set_id', 'type_id']].copy()\n",
    "fact_card_df['released_at'] = pd.to_datetime(fact_card_df['released_at'])"
   ]
  },
  {
   "cell_type": "code",
   "execution_count": 22,
   "id": "5d4b02d1",
   "metadata": {
    "scrolled": true
   },
   "outputs": [
    {
     "data": {
      "text/html": [
       "<div>\n",
       "<style scoped>\n",
       "    .dataframe tbody tr th:only-of-type {\n",
       "        vertical-align: middle;\n",
       "    }\n",
       "\n",
       "    .dataframe tbody tr th {\n",
       "        vertical-align: top;\n",
       "    }\n",
       "\n",
       "    .dataframe thead th {\n",
       "        text-align: right;\n",
       "    }\n",
       "</style>\n",
       "<table border=\"1\" class=\"dataframe\">\n",
       "  <thead>\n",
       "    <tr style=\"text-align: right;\">\n",
       "      <th></th>\n",
       "      <th>id</th>\n",
       "      <th>released_at</th>\n",
       "      <th>name</th>\n",
       "      <th>mana_cost</th>\n",
       "      <th>cmc</th>\n",
       "      <th>power</th>\n",
       "      <th>toughness</th>\n",
       "      <th>is_multicolor</th>\n",
       "      <th>is_colorless</th>\n",
       "      <th>rarity_id</th>\n",
       "      <th>set_id</th>\n",
       "      <th>type_id</th>\n",
       "    </tr>\n",
       "  </thead>\n",
       "  <tbody>\n",
       "    <tr>\n",
       "      <th>0</th>\n",
       "      <td>0000419b-0bba-4488-8f7a-6194544ce91e</td>\n",
       "      <td>2024-08-02</td>\n",
       "      <td>Forest</td>\n",
       "      <td></td>\n",
       "      <td>0.0</td>\n",
       "      <td>NaN</td>\n",
       "      <td>NaN</td>\n",
       "      <td>False</td>\n",
       "      <td>False</td>\n",
       "      <td>1</td>\n",
       "      <td>1</td>\n",
       "      <td>1</td>\n",
       "    </tr>\n",
       "    <tr>\n",
       "      <th>1</th>\n",
       "      <td>0000579f-7b35-4ed3-b44c-db2a538066fe</td>\n",
       "      <td>2006-10-06</td>\n",
       "      <td>Fury Sliver</td>\n",
       "      <td>{5}{R}</td>\n",
       "      <td>6.0</td>\n",
       "      <td>3</td>\n",
       "      <td>3</td>\n",
       "      <td>False</td>\n",
       "      <td>False</td>\n",
       "      <td>2</td>\n",
       "      <td>2</td>\n",
       "      <td>2</td>\n",
       "    </tr>\n",
       "    <tr>\n",
       "      <th>2</th>\n",
       "      <td>00006596-1166-4a79-8443-ca9f82e6db4e</td>\n",
       "      <td>2009-10-02</td>\n",
       "      <td>Kor Outfitter</td>\n",
       "      <td>{W}{W}</td>\n",
       "      <td>2.0</td>\n",
       "      <td>2</td>\n",
       "      <td>2</td>\n",
       "      <td>False</td>\n",
       "      <td>False</td>\n",
       "      <td>1</td>\n",
       "      <td>3</td>\n",
       "      <td>3</td>\n",
       "    </tr>\n",
       "    <tr>\n",
       "      <th>3</th>\n",
       "      <td>0000a54c-a511-4925-92dc-01b937f9afad</td>\n",
       "      <td>2015-05-22</td>\n",
       "      <td>Spirit</td>\n",
       "      <td></td>\n",
       "      <td>0.0</td>\n",
       "      <td>1</td>\n",
       "      <td>1</td>\n",
       "      <td>False</td>\n",
       "      <td>False</td>\n",
       "      <td>1</td>\n",
       "      <td>4</td>\n",
       "      <td>4</td>\n",
       "    </tr>\n",
       "    <tr>\n",
       "      <th>4</th>\n",
       "      <td>0000cd57-91fe-411f-b798-646e965eec37</td>\n",
       "      <td>2017-09-29</td>\n",
       "      <td>Siren Lookout</td>\n",
       "      <td>{2}{U}</td>\n",
       "      <td>3.0</td>\n",
       "      <td>1</td>\n",
       "      <td>2</td>\n",
       "      <td>False</td>\n",
       "      <td>False</td>\n",
       "      <td>1</td>\n",
       "      <td>5</td>\n",
       "      <td>5</td>\n",
       "    </tr>\n",
       "  </tbody>\n",
       "</table>\n",
       "</div>"
      ],
      "text/plain": [
       "                                     id released_at           name mana_cost  \\\n",
       "0  0000419b-0bba-4488-8f7a-6194544ce91e  2024-08-02         Forest             \n",
       "1  0000579f-7b35-4ed3-b44c-db2a538066fe  2006-10-06    Fury Sliver    {5}{R}   \n",
       "2  00006596-1166-4a79-8443-ca9f82e6db4e  2009-10-02  Kor Outfitter    {W}{W}   \n",
       "3  0000a54c-a511-4925-92dc-01b937f9afad  2015-05-22         Spirit             \n",
       "4  0000cd57-91fe-411f-b798-646e965eec37  2017-09-29  Siren Lookout    {2}{U}   \n",
       "\n",
       "   cmc power toughness  is_multicolor  is_colorless  rarity_id  set_id  \\\n",
       "0  0.0   NaN       NaN          False         False          1       1   \n",
       "1  6.0     3         3          False         False          2       2   \n",
       "2  2.0     2         2          False         False          1       3   \n",
       "3  0.0     1         1          False         False          1       4   \n",
       "4  3.0     1         2          False         False          1       5   \n",
       "\n",
       "   type_id  \n",
       "0        1  \n",
       "1        2  \n",
       "2        3  \n",
       "3        4  \n",
       "4        5  "
      ]
     },
     "execution_count": 22,
     "metadata": {},
     "output_type": "execute_result"
    }
   ],
   "source": [
    "fact_card_df.head()"
   ]
  },
  {
   "cell_type": "markdown",
   "id": "1f796fdd",
   "metadata": {},
   "source": [
    "## Fact Price (Daily Run and appends previous day)"
   ]
  },
  {
   "cell_type": "code",
   "execution_count": 23,
   "id": "907c6033",
   "metadata": {},
   "outputs": [],
   "source": [
    "price_fact_df_new = df[['id', 'prices.usd', 'prices.usd_foil', 'prices.usd_etched',\n",
    "                        'prices.eur', 'prices.eur_foil', 'prices.tix']].copy()\n",
    "price_fact_df_new['date_loaded'] = pd.to_datetime('today').normalize()\n",
    "master_path = \"price_fact_df_master.csv\"\n",
    "\n",
    "if os.path.exists(master_path):\n",
    "    price_fact_df_master = pd.read_csv(master_path)\n",
    "    price_fact_df_new['date_loaded'] = price_fact_df_new['date_loaded'].dt.date\n",
    "    starting_id = price_fact_df_master['price_fact_id'].max() + 1 \n",
    "    price_fact_df_new.insert(0, 'price_fact_id', range(starting_id, starting_id + len(price_fact_df_new)))\n",
    "    updated_df = pd.concat([price_fact_df_master, price_fact_df_new], ignore_index=True)\n",
    "    updated_df.to_csv(master_path, index=False)\n",
    "else:\n",
    "    price_fact_df_new.insert(0, 'price_fact_id', range(1, len(price_fact_df_new) + 1))\n",
    "    price_fact_df_new.to_csv(master_path, index=False)"
   ]
  },
  {
   "cell_type": "markdown",
   "id": "34d9c99c",
   "metadata": {},
   "source": [
    "## Read CSV again and adjust date_loaded to datetime"
   ]
  },
  {
   "cell_type": "code",
   "execution_count": 24,
   "id": "8e563314",
   "metadata": {},
   "outputs": [],
   "source": [
    "price_fact_df_master = pd.read_csv(master_path)\n",
    "fact_price_df=price_fact_df_master\n",
    "fact_price_df['date_loaded'] = pd.to_datetime(fact_price_df['date_loaded'], format=\"%Y-%m-%d\", errors='coerce')"
   ]
  },
  {
   "cell_type": "markdown",
   "id": "cd681d2a",
   "metadata": {},
   "source": [
    "## Fact Price Snapshot (Backup)"
   ]
  },
  {
   "cell_type": "code",
   "execution_count": 25,
   "id": "37efff32",
   "metadata": {},
   "outputs": [],
   "source": [
    "# Create snapshot backup\n",
    "today_str = datetime.today().strftime('%Y-%m-%d')\n",
    "price_fact_df_new.to_csv(f\"price_fact_snapshot_{today_str}.csv\", index=False)"
   ]
  },
  {
   "cell_type": "markdown",
   "id": "125837d5",
   "metadata": {},
   "source": [
    "# Step 5: Load"
   ]
  },
  {
   "cell_type": "markdown",
   "id": "f93ffa96",
   "metadata": {},
   "source": [
    "## Big Query Connect (After setting up environment in Google Cloud Console)"
   ]
  },
  {
   "cell_type": "markdown",
   "id": "bcb1e9df",
   "metadata": {},
   "source": [
    "### Initialize"
   ]
  },
  {
   "cell_type": "code",
   "execution_count": 26,
   "id": "f8416968",
   "metadata": {
    "scrolled": true
   },
   "outputs": [
    {
     "data": {
      "text/plain": [
       "Dataset(DatasetReference('mtg-data-pipeline', 'mtg_dataset'))"
      ]
     },
     "execution_count": 26,
     "metadata": {},
     "output_type": "execute_result"
    }
   ],
   "source": [
    "from google.cloud import bigquery\n",
    "\n",
    "os.environ[\"GOOGLE_APPLICATION_CREDENTIALS\"] = r\"C:\\Users\\nicoy\\Desktop\\GitHub\\MTG-Scryfall-Datawarehouse\\mtg-sa-key.json\"\n",
    "\n",
    "client = bigquery.Client()\n",
    "project_id = client.project\n",
    "dataset_id = \"mtg_dataset\"\n",
    "\n",
    "# Create dataset with full project.dataset ID\n",
    "dataset = bigquery.Dataset(f\"{project_id}.{dataset_id}\")\n",
    "dataset.location = \"US\"\n",
    "\n",
    "# Create dataset only if it doesn't already exist\n",
    "client.create_dataset(dataset, exists_ok=True)"
   ]
  },
  {
   "cell_type": "markdown",
   "id": "6a3307fd",
   "metadata": {},
   "source": [
    "### Load fact_card"
   ]
  },
  {
   "cell_type": "code",
   "execution_count": 27,
   "id": "6c4e6efb",
   "metadata": {},
   "outputs": [
    {
     "name": "stderr",
     "output_type": "stream",
     "text": [
      "C:\\Users\\nicoy\\anaconda3\\Lib\\site-packages\\google\\cloud\\bigquery\\_pandas_helpers.py:484: FutureWarning: Loading pandas DataFrame into BigQuery will require pandas-gbq package version 0.26.1 or greater in the future. Tried to import pandas-gbq and got: No module named 'pandas_gbq'\n",
      "  warnings.warn(\n"
     ]
    },
    {
     "name": "stdout",
     "output_type": "stream",
     "text": [
      "Uploaded 108794 rows to mtg-data-pipeline.mtg_dataset.fact_card.\n"
     ]
    }
   ],
   "source": [
    "# Define your new table name\n",
    "table_id = \"mtg-data-pipeline.mtg_dataset.fact_card\"\n",
    "\n",
    "# Define your table schema explicitly\n",
    "schema = [\n",
    "    bigquery.SchemaField(\"id\", \"STRING\", mode=\"REQUIRED\"),\n",
    "    bigquery.SchemaField(\"released_at\", \"DATE\"),\n",
    "    bigquery.SchemaField(\"name\", \"STRING\"),\n",
    "    bigquery.SchemaField(\"mana_cost\", \"STRING\"),\n",
    "    bigquery.SchemaField(\"cmc\", \"FLOAT\"),\n",
    "    bigquery.SchemaField(\"power\", \"STRING\"),\n",
    "    bigquery.SchemaField(\"toughness\", \"STRING\"),\n",
    "    bigquery.SchemaField(\"is_multicolor\", \"BOOLEAN\"),\n",
    "    bigquery.SchemaField(\"is_colorless\", \"BOOLEAN\"),\n",
    "    bigquery.SchemaField(\"rarity_id\", \"INTEGER\"),\n",
    "    bigquery.SchemaField(\"set_id\", \"INTEGER\"),\n",
    "    bigquery.SchemaField(\"type_id\", \"INTEGER\"),\n",
    "]\n",
    "\n",
    "# Create job config with overwrite and schema\n",
    "job_config = bigquery.LoadJobConfig(\n",
    "    write_disposition=\"WRITE_TRUNCATE\",\n",
    "    schema=schema\n",
    ")\n",
    "\n",
    "# Upload to BigQuery\n",
    "job = client.load_table_from_dataframe(fact_card_df, table_id, job_config=job_config)\n",
    "job.result()  # Wait for completion\n",
    "\n",
    "# Confirm success\n",
    "table = client.get_table(table_id)\n",
    "print(f\"Uploaded {table.num_rows} rows to {table_id}.\")"
   ]
  },
  {
   "cell_type": "markdown",
   "id": "3b082b41",
   "metadata": {},
   "source": [
    "### Load fact_price"
   ]
  },
  {
   "cell_type": "code",
   "execution_count": 28,
   "id": "456a2c11",
   "metadata": {},
   "outputs": [
    {
     "name": "stderr",
     "output_type": "stream",
     "text": [
      "C:\\Users\\nicoy\\anaconda3\\Lib\\site-packages\\google\\cloud\\bigquery\\_pandas_helpers.py:484: FutureWarning: Loading pandas DataFrame into BigQuery will require pandas-gbq package version 0.26.1 or greater in the future. Tried to import pandas-gbq and got: No module named 'pandas_gbq'\n",
      "  warnings.warn(\n"
     ]
    },
    {
     "name": "stdout",
     "output_type": "stream",
     "text": [
      "Uploaded 2707305 rows to mtg-data-pipeline.mtg_dataset.fact_price.\n"
     ]
    }
   ],
   "source": [
    "# Clean column names (optional but recommended)\n",
    "fact_price_df.columns = fact_price_df.columns.str.replace('[^a-zA-Z0-9_]', '_', regex=True)\n",
    "\n",
    "# Define your new table name\n",
    "table_id = \"mtg-data-pipeline.mtg_dataset.fact_price\"\n",
    "\n",
    "# Define the table schema\n",
    "schema = [\n",
    "    bigquery.SchemaField(\"price_fact_id\", \"INTEGER\", mode=\"REQUIRED\"),\n",
    "    bigquery.SchemaField(\"id\", \"STRING\", mode=\"REQUIRED\"),\n",
    "    bigquery.SchemaField(\"prices_usd\", \"FLOAT\"),\n",
    "    bigquery.SchemaField(\"prices_usd_foil\", \"FLOAT\"),\n",
    "    bigquery.SchemaField(\"prices_usd_etched\", \"FLOAT\"),\n",
    "    bigquery.SchemaField(\"prices_eur\", \"FLOAT\"),\n",
    "    bigquery.SchemaField(\"prices_eur_foil\", \"FLOAT\"),\n",
    "    bigquery.SchemaField(\"prices_tix\", \"FLOAT\"),\n",
    "    bigquery.SchemaField(\"date_loaded\", \"DATE\"),\n",
    "]\n",
    "\n",
    "# Create job config with overwrite and schema\n",
    "job_config = bigquery.LoadJobConfig(\n",
    "    write_disposition=\"WRITE_TRUNCATE\",\n",
    "    schema=schema\n",
    ")\n",
    "\n",
    "# Upload to BigQuery\n",
    "job = client.load_table_from_dataframe(fact_price_df, table_id, job_config=job_config)\n",
    "job.result()  # Wait until complete\n",
    "\n",
    "# Confirm success\n",
    "table = client.get_table(table_id)\n",
    "print(f\"Uploaded {table.num_rows} rows to {table_id}.\")"
   ]
  },
  {
   "cell_type": "markdown",
   "id": "54e94ce4",
   "metadata": {},
   "source": [
    "### Load dim_colors"
   ]
  },
  {
   "cell_type": "code",
   "execution_count": 29,
   "id": "0941c7fc",
   "metadata": {},
   "outputs": [
    {
     "name": "stderr",
     "output_type": "stream",
     "text": [
      "C:\\Users\\nicoy\\anaconda3\\Lib\\site-packages\\google\\cloud\\bigquery\\_pandas_helpers.py:484: FutureWarning: Loading pandas DataFrame into BigQuery will require pandas-gbq package version 0.26.1 or greater in the future. Tried to import pandas-gbq and got: No module named 'pandas_gbq'\n",
      "  warnings.warn(\n"
     ]
    },
    {
     "name": "stdout",
     "output_type": "stream",
     "text": [
      "Uploaded 117426 rows to mtg-data-pipeline.mtg_dataset.dim_colors.\n"
     ]
    }
   ],
   "source": [
    "# Clean column names (optional but recommended)\n",
    "dim_colors_df.columns = dim_colors_df.columns.str.replace('[^a-zA-Z0-9_]', '_', regex=True)\n",
    "\n",
    "# Define your new table name\n",
    "table_id = \"mtg-data-pipeline.mtg_dataset.dim_colors\"\n",
    "\n",
    "# Define the table schema\n",
    "schema = [\n",
    "    bigquery.SchemaField(\"id\", \"STRING\", mode=\"REQUIRED\"),\n",
    "    bigquery.SchemaField(\"color_identity\", \"STRING\"),\n",
    "]\n",
    "\n",
    "# Create job config with overwrite and schema\n",
    "job_config = bigquery.LoadJobConfig(\n",
    "    write_disposition=\"WRITE_TRUNCATE\",\n",
    "    schema=schema\n",
    ")\n",
    "\n",
    "# Upload to BigQuery\n",
    "job = client.load_table_from_dataframe(dim_colors_df, table_id, job_config=job_config)\n",
    "job.result()  # Wait until complete\n",
    "\n",
    "# Confirm success\n",
    "table = client.get_table(table_id)\n",
    "print(f\"Uploaded {table.num_rows} rows to {table_id}.\")\n"
   ]
  },
  {
   "cell_type": "markdown",
   "id": "b332b261",
   "metadata": {},
   "source": [
    "### Load dim_keywords"
   ]
  },
  {
   "cell_type": "code",
   "execution_count": 30,
   "id": "f35f9f16",
   "metadata": {},
   "outputs": [
    {
     "name": "stderr",
     "output_type": "stream",
     "text": [
      "C:\\Users\\nicoy\\anaconda3\\Lib\\site-packages\\google\\cloud\\bigquery\\_pandas_helpers.py:484: FutureWarning: Loading pandas DataFrame into BigQuery will require pandas-gbq package version 0.26.1 or greater in the future. Tried to import pandas-gbq and got: No module named 'pandas_gbq'\n",
      "  warnings.warn(\n"
     ]
    },
    {
     "name": "stdout",
     "output_type": "stream",
     "text": [
      "Uploaded 60925 rows to mtg-data-pipeline.mtg_dataset.dim_keywords.\n"
     ]
    }
   ],
   "source": [
    "# Clean column names (optional but recommended)\n",
    "dim_keywords_df.columns = dim_keywords_df.columns.str.replace('[^a-zA-Z0-9_]', '_', regex=True)\n",
    "\n",
    "# Define your new table name\n",
    "table_id = \"mtg-data-pipeline.mtg_dataset.dim_keywords\"\n",
    "\n",
    "# Define the table schema\n",
    "schema = [\n",
    "    bigquery.SchemaField(\"id\", \"STRING\", mode=\"REQUIRED\"),\n",
    "    bigquery.SchemaField(\"keyword\", \"STRING\"),\n",
    "]\n",
    "\n",
    "# Create job config with overwrite and schema\n",
    "job_config = bigquery.LoadJobConfig(\n",
    "    write_disposition=\"WRITE_TRUNCATE\",\n",
    "    schema=schema\n",
    ")\n",
    "\n",
    "# Upload to BigQuery\n",
    "job = client.load_table_from_dataframe(dim_keywords_df, table_id, job_config=job_config)\n",
    "job.result()  # Wait until complete\n",
    "\n",
    "# Confirm success\n",
    "table = client.get_table(table_id)\n",
    "print(f\"Uploaded {table.num_rows} rows to {table_id}.\")"
   ]
  },
  {
   "cell_type": "markdown",
   "id": "eefc236e",
   "metadata": {},
   "source": [
    "### Load dim_type"
   ]
  },
  {
   "cell_type": "code",
   "execution_count": 31,
   "id": "6f7978b3",
   "metadata": {
    "scrolled": true
   },
   "outputs": [
    {
     "name": "stderr",
     "output_type": "stream",
     "text": [
      "C:\\Users\\nicoy\\anaconda3\\Lib\\site-packages\\google\\cloud\\bigquery\\_pandas_helpers.py:484: FutureWarning: Loading pandas DataFrame into BigQuery will require pandas-gbq package version 0.26.1 or greater in the future. Tried to import pandas-gbq and got: No module named 'pandas_gbq'\n",
      "  warnings.warn(\n"
     ]
    },
    {
     "name": "stdout",
     "output_type": "stream",
     "text": [
      "Uploaded 4440 rows to mtg-data-pipeline.mtg_dataset.dim_type.\n"
     ]
    }
   ],
   "source": [
    "# Clean column names (optional but recommended)\n",
    "dim_type_df.columns = dim_type_df.columns.str.replace('[^a-zA-Z0-9_]', '_', regex=True)\n",
    "\n",
    "# Define your new table name\n",
    "table_id = \"mtg-data-pipeline.mtg_dataset.dim_type\"\n",
    "\n",
    "# Define the table schema\n",
    "schema = [\n",
    "    bigquery.SchemaField(\"type_id\", \"INTEGER\", mode=\"REQUIRED\"),\n",
    "    bigquery.SchemaField(\"supertypes\", \"STRING\"),\n",
    "    bigquery.SchemaField(\"types\", \"STRING\"),\n",
    "    bigquery.SchemaField(\"subtypes\", \"STRING\"),\n",
    "]\n",
    "\n",
    "# Create job config with overwrite and schema\n",
    "job_config = bigquery.LoadJobConfig(\n",
    "    write_disposition=\"WRITE_TRUNCATE\",\n",
    "    schema=schema\n",
    ")\n",
    "\n",
    "# Upload to BigQuery\n",
    "job = client.load_table_from_dataframe(dim_type_df, table_id, job_config=job_config)\n",
    "job.result()  # Wait until complete\n",
    "\n",
    "# Confirm success\n",
    "table = client.get_table(table_id)\n",
    "print(f\"Uploaded {table.num_rows} rows to {table_id}.\")"
   ]
  },
  {
   "cell_type": "markdown",
   "id": "d541f50c",
   "metadata": {},
   "source": [
    "### Load dim_set"
   ]
  },
  {
   "cell_type": "code",
   "execution_count": 32,
   "id": "1893c779",
   "metadata": {},
   "outputs": [
    {
     "name": "stderr",
     "output_type": "stream",
     "text": [
      "C:\\Users\\nicoy\\anaconda3\\Lib\\site-packages\\google\\cloud\\bigquery\\_pandas_helpers.py:484: FutureWarning: Loading pandas DataFrame into BigQuery will require pandas-gbq package version 0.26.1 or greater in the future. Tried to import pandas-gbq and got: No module named 'pandas_gbq'\n",
      "  warnings.warn(\n"
     ]
    },
    {
     "name": "stdout",
     "output_type": "stream",
     "text": [
      "Uploaded 981 rows to mtg-data-pipeline.mtg_dataset.dim_set.\n"
     ]
    }
   ],
   "source": [
    "# Clean column names (optional but recommended)\n",
    "dim_set_df.columns = dim_set_df.columns.str.replace('[^a-zA-Z0-9_]', '_', regex=True)\n",
    "\n",
    "# Define your new table name\n",
    "table_id = \"mtg-data-pipeline.mtg_dataset.dim_set\"\n",
    "\n",
    "# Define the table schema\n",
    "schema = [\n",
    "    bigquery.SchemaField(\"set_id\", \"INTEGER\", mode=\"REQUIRED\"),\n",
    "    bigquery.SchemaField(\"set\", \"STRING\"),\n",
    "    bigquery.SchemaField(\"set_name\", \"STRING\"),\n",
    "    bigquery.SchemaField(\"set_type\", \"STRING\"),\n",
    "]\n",
    "\n",
    "# Create job config with overwrite and schema\n",
    "job_config = bigquery.LoadJobConfig(\n",
    "    write_disposition=\"WRITE_TRUNCATE\",\n",
    "    schema=schema\n",
    ")\n",
    "\n",
    "# Upload to BigQuery\n",
    "job = client.load_table_from_dataframe(dim_set_df, table_id, job_config=job_config)\n",
    "job.result()  # Wait until complete\n",
    "\n",
    "# Confirm success\n",
    "table = client.get_table(table_id)\n",
    "print(f\"Uploaded {table.num_rows} rows to {table_id}.\")"
   ]
  },
  {
   "cell_type": "markdown",
   "id": "2bed49c2",
   "metadata": {},
   "source": [
    "### Load dim_rarity"
   ]
  },
  {
   "cell_type": "code",
   "execution_count": 33,
   "id": "2d9c492c",
   "metadata": {},
   "outputs": [
    {
     "name": "stderr",
     "output_type": "stream",
     "text": [
      "C:\\Users\\nicoy\\anaconda3\\Lib\\site-packages\\google\\cloud\\bigquery\\_pandas_helpers.py:484: FutureWarning: Loading pandas DataFrame into BigQuery will require pandas-gbq package version 0.26.1 or greater in the future. Tried to import pandas-gbq and got: No module named 'pandas_gbq'\n",
      "  warnings.warn(\n"
     ]
    },
    {
     "name": "stdout",
     "output_type": "stream",
     "text": [
      "Uploaded 6 rows to mtg-data-pipeline.mtg_dataset.dim_rarity.\n"
     ]
    }
   ],
   "source": [
    "# Clean column names (optional but recommended)\n",
    "dim_rarity_df.columns = dim_rarity_df.columns.str.replace('[^a-zA-Z0-9_]', '_', regex=True)\n",
    "\n",
    "# Define your new table name\n",
    "table_id = \"mtg-data-pipeline.mtg_dataset.dim_rarity\"\n",
    "\n",
    "# Define the table schema\n",
    "schema = [\n",
    "    bigquery.SchemaField(\"rarity_id\", \"INTEGER\", mode=\"REQUIRED\"),\n",
    "    bigquery.SchemaField(\"rarity\", \"STRING\"),\n",
    "]\n",
    "\n",
    "# Create job config with overwrite and schema\n",
    "job_config = bigquery.LoadJobConfig(\n",
    "    write_disposition=\"WRITE_TRUNCATE\",\n",
    "    schema=schema\n",
    ")\n",
    "\n",
    "# Upload to BigQuery\n",
    "job = client.load_table_from_dataframe(dim_rarity_df, table_id, job_config=job_config)\n",
    "job.result()  # Wait until complete\n",
    "\n",
    "# Confirm success\n",
    "table = client.get_table(table_id)\n",
    "print(f\"Uploaded {table.num_rows} rows to {table_id}.\")"
   ]
  },
  {
   "cell_type": "markdown",
   "id": "1cdcb8f0",
   "metadata": {},
   "source": [
    "### Load dim_legalities"
   ]
  },
  {
   "cell_type": "code",
   "execution_count": 34,
   "id": "197a5795",
   "metadata": {},
   "outputs": [
    {
     "name": "stderr",
     "output_type": "stream",
     "text": [
      "C:\\Users\\nicoy\\anaconda3\\Lib\\site-packages\\google\\cloud\\bigquery\\_pandas_helpers.py:484: FutureWarning: Loading pandas DataFrame into BigQuery will require pandas-gbq package version 0.26.1 or greater in the future. Tried to import pandas-gbq and got: No module named 'pandas_gbq'\n",
      "  warnings.warn(\n"
     ]
    },
    {
     "name": "stdout",
     "output_type": "stream",
     "text": [
      "Uploaded 108794 rows to mtg-data-pipeline.mtg_dataset.dim_legalities.\n"
     ]
    }
   ],
   "source": [
    "# Clean column names (optional but recommended)\n",
    "dim_legalities_df.columns = dim_legalities_df.columns.str.replace('[^a-zA-Z0-9_]', '_', regex=True)\n",
    "\n",
    "# Define your new table name\n",
    "table_id = \"mtg-data-pipeline.mtg_dataset.dim_legalities\"\n",
    "\n",
    "# Define the table schema\n",
    "schema = [\n",
    "    bigquery.SchemaField(\"id\", \"STRING\", mode=\"REQUIRED\"),\n",
    "    bigquery.SchemaField(\"standard\", \"STRING\"),\n",
    "    bigquery.SchemaField(\"future\", \"STRING\"),\n",
    "    bigquery.SchemaField(\"historic\", \"STRING\"),\n",
    "    bigquery.SchemaField(\"timeless\", \"STRING\"),\n",
    "    bigquery.SchemaField(\"gladiator\", \"STRING\"),\n",
    "    bigquery.SchemaField(\"pioneer\", \"STRING\"),\n",
    "    bigquery.SchemaField(\"modern\", \"STRING\"),\n",
    "    bigquery.SchemaField(\"legacy\", \"STRING\"),\n",
    "    bigquery.SchemaField(\"pauper\", \"STRING\"),\n",
    "    bigquery.SchemaField(\"vintage\", \"STRING\"),\n",
    "    bigquery.SchemaField(\"penny\", \"STRING\"),\n",
    "    bigquery.SchemaField(\"commander\", \"STRING\"),\n",
    "    bigquery.SchemaField(\"oathbreaker\", \"STRING\"),\n",
    "    bigquery.SchemaField(\"standardbrawl\", \"STRING\"),\n",
    "    bigquery.SchemaField(\"brawl\", \"STRING\"),\n",
    "    bigquery.SchemaField(\"alchemy\", \"STRING\"),\n",
    "    bigquery.SchemaField(\"paupercommander\", \"STRING\"),\n",
    "    bigquery.SchemaField(\"duel\", \"STRING\"),\n",
    "    bigquery.SchemaField(\"oldschool\", \"STRING\"),\n",
    "    bigquery.SchemaField(\"premodern\", \"STRING\"),\n",
    "    bigquery.SchemaField(\"predh\", \"STRING\"),\n",
    "]\n",
    "\n",
    "# Create job config with overwrite and schema\n",
    "job_config = bigquery.LoadJobConfig(\n",
    "    write_disposition=\"WRITE_TRUNCATE\",\n",
    "    schema=schema\n",
    ")\n",
    "\n",
    "# Upload to BigQuery\n",
    "job = client.load_table_from_dataframe(dim_legalities_df, table_id, job_config=job_config)\n",
    "job.result()  # Wait until complete\n",
    "\n",
    "# Confirm success\n",
    "table = client.get_table(table_id)\n",
    "print(f\"Uploaded {table.num_rows} rows to {table_id}.\")"
   ]
  },
  {
   "cell_type": "markdown",
   "id": "731e1de4",
   "metadata": {},
   "source": [
    "### Load dim_Image"
   ]
  },
  {
   "cell_type": "code",
   "execution_count": 35,
   "id": "fd155694",
   "metadata": {},
   "outputs": [
    {
     "name": "stderr",
     "output_type": "stream",
     "text": [
      "C:\\Users\\nicoy\\anaconda3\\Lib\\site-packages\\google\\cloud\\bigquery\\_pandas_helpers.py:484: FutureWarning: Loading pandas DataFrame into BigQuery will require pandas-gbq package version 0.26.1 or greater in the future. Tried to import pandas-gbq and got: No module named 'pandas_gbq'\n",
      "  warnings.warn(\n"
     ]
    },
    {
     "name": "stdout",
     "output_type": "stream",
     "text": [
      "Uploaded 105021 rows to mtg-data-pipeline.mtg_dataset.dim_image.\n"
     ]
    }
   ],
   "source": [
    "# Clean column names (optional but recommended)\n",
    "dim_image_df.columns = dim_image_df.columns.str.replace('[^a-zA-Z0-9_]', '_', regex=True)\n",
    "\n",
    "# Define your new table name\n",
    "table_id = \"mtg-data-pipeline.mtg_dataset.dim_image\"\n",
    "\n",
    "# Define the table schema\n",
    "schema = [\n",
    "    bigquery.SchemaField(\"id\", \"STRING\", mode=\"REQUIRED\"),\n",
    "    bigquery.SchemaField(\"small\", \"STRING\"),\n",
    "    bigquery.SchemaField(\"normal\", \"STRING\"),\n",
    "    bigquery.SchemaField(\"large\", \"STRING\"),\n",
    "    bigquery.SchemaField(\"png\", \"STRING\"),\n",
    "    bigquery.SchemaField(\"art_crop\", \"STRING\"),\n",
    "    bigquery.SchemaField(\"border_crop\", \"STRING\"),\n",
    "]\n",
    "\n",
    "# Create job config with overwrite and schema\n",
    "job_config = bigquery.LoadJobConfig(\n",
    "    write_disposition=\"WRITE_TRUNCATE\",\n",
    "    schema=schema\n",
    ")\n",
    "\n",
    "# Upload to BigQuery\n",
    "job = client.load_table_from_dataframe(dim_image_df, table_id, job_config=job_config)\n",
    "job.result()  # Wait until complete\n",
    "\n",
    "# Confirm success\n",
    "table = client.get_table(table_id)\n",
    "print(f\"Uploaded {table.num_rows} rows to {table_id}.\")"
   ]
  },
  {
   "cell_type": "markdown",
   "id": "a0214973",
   "metadata": {},
   "source": [
    "### Load dim_purchase"
   ]
  },
  {
   "cell_type": "code",
   "execution_count": 36,
   "id": "b5800754",
   "metadata": {},
   "outputs": [
    {
     "name": "stderr",
     "output_type": "stream",
     "text": [
      "C:\\Users\\nicoy\\anaconda3\\Lib\\site-packages\\google\\cloud\\bigquery\\_pandas_helpers.py:484: FutureWarning: Loading pandas DataFrame into BigQuery will require pandas-gbq package version 0.26.1 or greater in the future. Tried to import pandas-gbq and got: No module named 'pandas_gbq'\n",
      "  warnings.warn(\n"
     ]
    },
    {
     "name": "stdout",
     "output_type": "stream",
     "text": [
      "Uploaded 105302 rows to mtg-data-pipeline.mtg_dataset.dim_purchase.\n"
     ]
    }
   ],
   "source": [
    "# Clean column names (optional but recommended)\n",
    "dim_purchase_df.columns = dim_purchase_df.columns.str.replace('[^a-zA-Z0-9_]', '_', regex=True)\n",
    "\n",
    "# Define your new table name\n",
    "table_id = \"mtg-data-pipeline.mtg_dataset.dim_purchase\"\n",
    "\n",
    "# Define the table schema\n",
    "schema = [\n",
    "    bigquery.SchemaField(\"id\", \"STRING\", mode=\"REQUIRED\"),\n",
    "    bigquery.SchemaField(\"tcgplayer\", \"STRING\"),\n",
    "    bigquery.SchemaField(\"cardmarket\", \"STRING\"),\n",
    "    bigquery.SchemaField(\"cardhoarder\", \"STRING\"),\n",
    "]\n",
    "\n",
    "# Create job config with overwrite and schema\n",
    "job_config = bigquery.LoadJobConfig(\n",
    "    write_disposition=\"WRITE_TRUNCATE\",\n",
    "    schema=schema\n",
    ")\n",
    "\n",
    "# Upload to BigQuery\n",
    "job = client.load_table_from_dataframe(dim_purchase_df, table_id, job_config=job_config)\n",
    "job.result()  # Wait until complete\n",
    "\n",
    "# Confirm success\n",
    "table = client.get_table(table_id)\n",
    "print(f\"Uploaded {table.num_rows} rows to {table_id}.\")"
   ]
  }
 ],
 "metadata": {
  "kernelspec": {
   "display_name": "Python 3 (ipykernel)",
   "language": "python",
   "name": "python3"
  },
  "language_info": {
   "codemirror_mode": {
    "name": "ipython",
    "version": 3
   },
   "file_extension": ".py",
   "mimetype": "text/x-python",
   "name": "python",
   "nbconvert_exporter": "python",
   "pygments_lexer": "ipython3",
   "version": "3.11.5"
  }
 },
 "nbformat": 4,
 "nbformat_minor": 5
}
